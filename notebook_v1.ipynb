{
 "cells": [
  {
   "attachments": {},
   "cell_type": "markdown",
   "metadata": {},
   "source": [
    "### Libraries"
   ]
  },
  {
   "cell_type": "code",
   "execution_count": 1,
   "metadata": {},
   "outputs": [
    {
     "name": "stdout",
     "output_type": "stream",
     "text": [
      "Requirement already satisfied: rdflib in c:\\users\\mathews\\.conda\\envs\\tf-gpu-new\\lib\\site-packages (6.3.2)\n",
      "Requirement already satisfied: pyparsing<4,>=2.1.0 in c:\\users\\mathews\\.conda\\envs\\tf-gpu-new\\lib\\site-packages (from rdflib) (3.0.9)\n",
      "Requirement already satisfied: isodate<0.7.0,>=0.6.0 in c:\\users\\mathews\\.conda\\envs\\tf-gpu-new\\lib\\site-packages (from rdflib) (0.6.1)\n",
      "Requirement already satisfied: six in c:\\users\\mathews\\.conda\\envs\\tf-gpu-new\\lib\\site-packages (from isodate<0.7.0,>=0.6.0->rdflib) (1.16.0)\n"
     ]
    },
    {
     "name": "stderr",
     "output_type": "stream",
     "text": [
      "WARNING: Ignoring invalid distribution -rotobuf (c:\\users\\mathews\\.conda\\envs\\tf-gpu-new\\lib\\site-packages)\n",
      "WARNING: Ignoring invalid distribution -rotobuf (c:\\users\\mathews\\.conda\\envs\\tf-gpu-new\\lib\\site-packages)\n",
      "WARNING: Ignoring invalid distribution -rotobuf (c:\\users\\mathews\\.conda\\envs\\tf-gpu-new\\lib\\site-packages)\n",
      "WARNING: Ignoring invalid distribution -rotobuf (c:\\users\\mathews\\.conda\\envs\\tf-gpu-new\\lib\\site-packages)\n",
      "WARNING: Ignoring invalid distribution -rotobuf (c:\\users\\mathews\\.conda\\envs\\tf-gpu-new\\lib\\site-packages)\n",
      "WARNING: Ignoring invalid distribution -rotobuf (c:\\users\\mathews\\.conda\\envs\\tf-gpu-new\\lib\\site-packages)\n"
     ]
    }
   ],
   "source": [
    "!pip install rdflib"
   ]
  },
  {
   "cell_type": "code",
   "execution_count": 5,
   "metadata": {},
   "outputs": [],
   "source": [
    "import pandas as pd\n",
    "import csv\n",
    "import re\n",
    "import rdflib\n",
    "from rdflib import Graph, Namespace, Literal, RDF, RDFS"
   ]
  },
  {
   "attachments": {},
   "cell_type": "markdown",
   "metadata": {},
   "source": [
    "#### Generate the requirements file"
   ]
  },
  {
   "cell_type": "code",
   "execution_count": 6,
   "metadata": {},
   "outputs": [],
   "source": [
    "with open('requirements.txt', 'w') as file:\n",
    "    file.writelines(f'pandas=={pd.__version__}\\n')\n",
    "    file.writelines(f'rdflib=={rdflib.__version__}\\n')"
   ]
  },
  {
   "attachments": {},
   "cell_type": "markdown",
   "metadata": {},
   "source": [
    "### Data Loading and pre-processing"
   ]
  },
  {
   "cell_type": "code",
   "execution_count": 7,
   "metadata": {},
   "outputs": [
    {
     "data": {
      "text/html": [
       "<div>\n",
       "<style scoped>\n",
       "    .dataframe tbody tr th:only-of-type {\n",
       "        vertical-align: middle;\n",
       "    }\n",
       "\n",
       "    .dataframe tbody tr th {\n",
       "        vertical-align: top;\n",
       "    }\n",
       "\n",
       "    .dataframe thead th {\n",
       "        text-align: right;\n",
       "    }\n",
       "</style>\n",
       "<table border=\"1\" class=\"dataframe\">\n",
       "  <thead>\n",
       "    <tr style=\"text-align: right;\">\n",
       "      <th></th>\n",
       "      <th>Question</th>\n",
       "      <th>Answer</th>\n",
       "      <th>topic_name</th>\n",
       "      <th>topic_words</th>\n",
       "      <th>Unnamed: 4</th>\n",
       "    </tr>\n",
       "  </thead>\n",
       "  <tbody>\n",
       "    <tr>\n",
       "      <th>0</th>\n",
       "      <td>What were the sources of atmospheric nutrients...</td>\n",
       "      <td>The primary sources of atmospheric nutrients t...</td>\n",
       "      <td>Bio-Fishery Ecosys.</td>\n",
       "      <td>fisheries, fishing, zooplankton, bioclimatic, ...</td>\n",
       "      <td>NaN</td>\n",
       "    </tr>\n",
       "    <tr>\n",
       "      <th>1</th>\n",
       "      <td>How was the fertilization effect on phytoplank...</td>\n",
       "      <td>The fertilization effect on phytoplankton was ...</td>\n",
       "      <td>Bio-Fishery Ecosys.</td>\n",
       "      <td>fisheries, fishing, zooplankton, bioclimatic, ...</td>\n",
       "      <td>NaN</td>\n",
       "    </tr>\n",
       "    <tr>\n",
       "      <th>2</th>\n",
       "      <td>How do rising temperatures affect Alpine lakes?</td>\n",
       "      <td>Rising temperatures increase mineral weatherin...</td>\n",
       "      <td>Bio-Fishery Ecosys.</td>\n",
       "      <td>fisheries, fishing, zooplankton, bioclimatic, ...</td>\n",
       "      <td>NaN</td>\n",
       "    </tr>\n",
       "    <tr>\n",
       "      <th>3</th>\n",
       "      <td>How has an increase in phytoplankton biomass b...</td>\n",
       "      <td>Significant increase in phytoplankton biomass ...</td>\n",
       "      <td>Bio-Fishery Ecosys.</td>\n",
       "      <td>fisheries, fishing, zooplankton, bioclimatic, ...</td>\n",
       "      <td>NaN</td>\n",
       "    </tr>\n",
       "    <tr>\n",
       "      <th>4</th>\n",
       "      <td>How do higher metabolic rates of organisms and...</td>\n",
       "      <td>Higher metabolic rates of organisms and longer...</td>\n",
       "      <td>Climatological Vegetation</td>\n",
       "      <td>vegetation, plants, climatological, planting, ...</td>\n",
       "      <td>NaN</td>\n",
       "    </tr>\n",
       "    <tr>\n",
       "      <th>5</th>\n",
       "      <td>How does atmospheric deposition represent a ke...</td>\n",
       "      <td>Atmospheric nitrogen deposition in many mounta...</td>\n",
       "      <td>Bio-Fishery Ecosys.</td>\n",
       "      <td>fisheries, fishing, zooplankton, bioclimatic, ...</td>\n",
       "      <td>NaN</td>\n",
       "    </tr>\n",
       "    <tr>\n",
       "      <th>6</th>\n",
       "      <td>What has been shown to be the outcome of atmos...</td>\n",
       "      <td>Atmospheric deposition has been shown to alter...</td>\n",
       "      <td>Bio-Fishery Ecosys.</td>\n",
       "      <td>fisheries, fishing, zooplankton, bioclimatic, ...</td>\n",
       "      <td>NaN</td>\n",
       "    </tr>\n",
       "    <tr>\n",
       "      <th>7</th>\n",
       "      <td>What is the natural environment of Tianchi Lake?</td>\n",
       "      <td>Tianchi Lake is an alpine lake located in a na...</td>\n",
       "      <td>Bio-Fishery Ecosys.</td>\n",
       "      <td>fisheries, fishing, zooplankton, bioclimatic, ...</td>\n",
       "      <td>NaN</td>\n",
       "    </tr>\n",
       "    <tr>\n",
       "      <th>8</th>\n",
       "      <td>What is the purpose of this study?</td>\n",
       "      <td>The purpose of this study is to determine the ...</td>\n",
       "      <td>Researching Ecology</td>\n",
       "      <td>researching, research, researched, researches,...</td>\n",
       "      <td>NaN</td>\n",
       "    </tr>\n",
       "    <tr>\n",
       "      <th>9</th>\n",
       "      <td>What kind of data is being used in the study?</td>\n",
       "      <td>This study is using a dataset of atmospheric c...</td>\n",
       "      <td>Data Analysis Methods</td>\n",
       "      <td>dataset, data, datasets, datastream, statistic...</td>\n",
       "      <td>NaN</td>\n",
       "    </tr>\n",
       "  </tbody>\n",
       "</table>\n",
       "</div>"
      ],
      "text/plain": [
       "                                            Question  \\\n",
       "0  What were the sources of atmospheric nutrients...   \n",
       "1  How was the fertilization effect on phytoplank...   \n",
       "2    How do rising temperatures affect Alpine lakes?   \n",
       "3  How has an increase in phytoplankton biomass b...   \n",
       "4  How do higher metabolic rates of organisms and...   \n",
       "5  How does atmospheric deposition represent a ke...   \n",
       "6  What has been shown to be the outcome of atmos...   \n",
       "7   What is the natural environment of Tianchi Lake?   \n",
       "8                 What is the purpose of this study?   \n",
       "9      What kind of data is being used in the study?   \n",
       "\n",
       "                                              Answer  \\\n",
       "0  The primary sources of atmospheric nutrients t...   \n",
       "1  The fertilization effect on phytoplankton was ...   \n",
       "2  Rising temperatures increase mineral weatherin...   \n",
       "3  Significant increase in phytoplankton biomass ...   \n",
       "4  Higher metabolic rates of organisms and longer...   \n",
       "5  Atmospheric nitrogen deposition in many mounta...   \n",
       "6  Atmospheric deposition has been shown to alter...   \n",
       "7  Tianchi Lake is an alpine lake located in a na...   \n",
       "8  The purpose of this study is to determine the ...   \n",
       "9  This study is using a dataset of atmospheric c...   \n",
       "\n",
       "                  topic_name  \\\n",
       "0        Bio-Fishery Ecosys.   \n",
       "1        Bio-Fishery Ecosys.   \n",
       "2        Bio-Fishery Ecosys.   \n",
       "3        Bio-Fishery Ecosys.   \n",
       "4  Climatological Vegetation   \n",
       "5        Bio-Fishery Ecosys.   \n",
       "6        Bio-Fishery Ecosys.   \n",
       "7        Bio-Fishery Ecosys.   \n",
       "8        Researching Ecology   \n",
       "9      Data Analysis Methods   \n",
       "\n",
       "                                         topic_words  Unnamed: 4  \n",
       "0  fisheries, fishing, zooplankton, bioclimatic, ...         NaN  \n",
       "1  fisheries, fishing, zooplankton, bioclimatic, ...         NaN  \n",
       "2  fisheries, fishing, zooplankton, bioclimatic, ...         NaN  \n",
       "3  fisheries, fishing, zooplankton, bioclimatic, ...         NaN  \n",
       "4  vegetation, plants, climatological, planting, ...         NaN  \n",
       "5  fisheries, fishing, zooplankton, bioclimatic, ...         NaN  \n",
       "6  fisheries, fishing, zooplankton, bioclimatic, ...         NaN  \n",
       "7  fisheries, fishing, zooplankton, bioclimatic, ...         NaN  \n",
       "8  researching, research, researched, researches,...         NaN  \n",
       "9  dataset, data, datasets, datastream, statistic...         NaN  "
      ]
     },
     "execution_count": 7,
     "metadata": {},
     "output_type": "execute_result"
    }
   ],
   "source": [
    "# Load the data\n",
    "df = pd.read_csv('data\\8606-subtopics_Clean.csv')\n",
    "df.head(10)"
   ]
  },
  {
   "cell_type": "code",
   "execution_count": 8,
   "metadata": {},
   "outputs": [
    {
     "name": "stdout",
     "output_type": "stream",
     "text": [
      "<class 'pandas.core.frame.DataFrame'>\n",
      "Int64Index: 8479 entries, 0 to 8478\n",
      "Data columns (total 4 columns):\n",
      " #   Column       Non-Null Count  Dtype \n",
      "---  ------       --------------  ----- \n",
      " 0   Question     8479 non-null   object\n",
      " 1   Answer       8479 non-null   object\n",
      " 2   topic_name   8479 non-null   object\n",
      " 3   topic_words  8479 non-null   object\n",
      "dtypes: object(4)\n",
      "memory usage: 331.2+ KB\n"
     ]
    }
   ],
   "source": [
    "# Drop the unnamed column and nan values\n",
    "df = df.drop(columns='Unnamed: 4')\n",
    "df = df.dropna()\n",
    "df.info()"
   ]
  },
  {
   "cell_type": "code",
   "execution_count": 9,
   "metadata": {},
   "outputs": [],
   "source": [
    "# Save the clean file\n",
    "df.to_csv('data.csv', index=False)"
   ]
  },
  {
   "cell_type": "code",
   "execution_count": 10,
   "metadata": {},
   "outputs": [],
   "source": [
    "# Create an RDF graph\n",
    "g = Graph()\n",
    "ex = Namespace(\"http://example.com/\")\n",
    "\n",
    "# Define RDF classes and properties\n",
    "Question = ex.Question\n",
    "Answer = ex.Answer\n",
    "Topic = ex.Topic\n",
    "Subtopic = ex.Subtopic\n",
    "hasAnswer = ex.hasAnswer\n",
    "hasTopic = ex.hasTopic\n",
    "hasSubtopic = ex.hasSubtopic\n",
    "\n",
    "# Load data from CSV file\n",
    "with open('data.csv', 'r') as file:\n",
    "    reader = csv.DictReader(file)\n",
    "    for row in reader:\n",
    "        # Extract data from CSV columns\n",
    "        question = row['Question']\n",
    "        answer = row['Answer']\n",
    "        topic_name = row['topic_name']\n",
    "        topic_words = row['topic_words']\n",
    "\n",
    "        # Remove extra punctuations from the question \n",
    "        plain_text = re.sub(r'[^\\w\\s]', '', question)\n",
    "\n",
    "        # Create unique URI for the question\n",
    "        question_uri = ex[plain_text.replace(\" \", \"_\")]\n",
    "\n",
    "        # Add triples to the graph\n",
    "        g.add((question_uri, RDF.type, Question))\n",
    "        g.add((question_uri, RDFS.label, Literal(question)))\n",
    "        g.add((question_uri, hasAnswer, Literal(answer)))\n",
    "        g.add((question_uri, hasTopic, Literal(topic_name)))\n",
    "        g.add((question_uri, hasSubtopic, Literal(topic_words)))\n",
    "\n",
    "# Serialize the RDF graph to Turtle and n-tripples format\n",
    "turtle_data = g.serialize(format='turtle')\n",
    "nt_data = g.serialize(format='nt')\n",
    "\n",
    "# Save the outputs to output.nt file and outputs.ttl file\n",
    "with open('output.nt', 'w') as nt_file, open('output.ttl', 'w') as ttl_file:\n",
    "    nt_file.write(nt_data)\n",
    "    ttl_file.write(turtle_data)"
   ]
  },
  {
   "cell_type": "code",
   "execution_count": null,
   "metadata": {},
   "outputs": [],
   "source": []
  }
 ],
 "metadata": {
  "kernelspec": {
   "display_name": "tf-gpu-new",
   "language": "python",
   "name": "python3"
  },
  "language_info": {
   "codemirror_mode": {
    "name": "ipython",
    "version": 3
   },
   "file_extension": ".py",
   "mimetype": "text/x-python",
   "name": "python",
   "nbconvert_exporter": "python",
   "pygments_lexer": "ipython3",
   "version": "3.8.5"
  },
  "orig_nbformat": 4
 },
 "nbformat": 4,
 "nbformat_minor": 2
}
